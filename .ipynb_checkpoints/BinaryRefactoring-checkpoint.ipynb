{
 "cells": [
  {
   "cell_type": "code",
   "execution_count": null,
   "metadata": {
    "collapsed": true,
    "deletable": true,
    "editable": true
   },
   "outputs": [],
   "source": [
    "import pandas as pd\n",
    "import numpy as np"
   ]
  },
  {
   "cell_type": "code",
   "execution_count": null,
   "metadata": {
    "collapsed": false,
    "deletable": true,
    "editable": true
   },
   "outputs": [],
   "source": [
    "file = \"/Users/jwalker/Documents/Altmetrics research/data2.csv\";\n",
    "MendeleyThreshold = 3\n",
    "CiteULikeThreshold = 1\n",
    "ConnoteaThreshold = 1\n",
    "FBSharesThreshold = 1\n",
    "BlogsThreshold = 1\n",
    "GooglePlusThreshold = 1\n",
    "NewsThreshold = 1\n",
    "PolicyThreshold = 1\n",
    "RedditThreshold = 1\n",
    "TwitterThreshold = 1\n",
    "VideoThreshold = 1\n",
    "WikipediaThreshold = 1\n",
    "citationsThreshold = 1\n",
    "\n",
    "df=pd.read_csv(file, sep=',',header=None)\n",
    "final = np.empty([1899,13])\n",
    "final.astype(int)\n",
    "#print(df.head(5))\n",
    "X = df.values\n",
    "#print(X[:,1])\n",
    "\n",
    "\n",
    "X = np.delete(X, 0, 0)\n",
    "X = np.delete(X, 0, 1)\n",
    "\n",
    "X = X.astype(int)\n",
    "\n",
    "# Deal with mendely column threshold 3\n",
    "M = X[:,0]\n",
    "#print(M)\n",
    "M[M > MendeleyThreshold] = 1\n",
    "final[:,0] = M\n",
    "\n",
    "# Deal with cite you like column.  Threshold 1\n",
    "C = X[:,1]\n",
    "C[C > CiteULikeThreshold] = 1\n",
    "final[:,1] = C\n",
    "\n",
    "# Deal with Connotae read\n",
    "CO = X[:,2]\n",
    "CO[CO > ConnoteaThreshold] = 1\n",
    "final[:,2] = CO\n",
    "\n",
    "# Deal with FB shares\n",
    "F = X[:,3]\n",
    "F[F > FBSharesThreshold] = 1\n",
    "final[:,3] = F\n",
    "\n",
    "# Deal with blogs\n",
    "B = X[:,4]\n",
    "B[B > BlogsThreshold] = 1\n",
    "final[:,4] = B\n",
    "\n",
    "# deal with google plus\n",
    "G = X[:,5]\n",
    "G[G > GooglePlusThreshold] = 1\n",
    "final[:,5] = G\n",
    "\n",
    "# Deal with news\n",
    "N = X[:,6]\n",
    "N[N > NewsThreshold] = 1\n",
    "final[:,6] = N\n",
    "\n",
    "# deal with policy\n",
    "P = X[:,7]\n",
    "P[P > PolicyThreshold] = 1\n",
    "final[:,7] = P\n",
    "\n",
    "# deal with reddit \n",
    "R = X[:,8]\n",
    "R[R > RedditThreshold] = 1\n",
    "final[:,8] = R\n",
    "\n",
    "# deal with twitter\n",
    "T = X[:,9]\n",
    "T[T > TwitterThreshold] = 1\n",
    "final[:,9] = T\n",
    "\n",
    "# deal with video \n",
    "V = X[:,10]\n",
    "V[V > VideoThreshold] = 1\n",
    "final[:,10] = V\n",
    "\n",
    "# deal with wikipedia\n",
    "W = X[:,11]\n",
    "W[W > WikipediaThreshold] = 1\n",
    "final[:,11] = W\n",
    "\n",
    "# deal with citations\n",
    "CI = X[:,12]\n",
    "CI[CI > citationsThreshold] = 1\n",
    "final[:,12] = CI\n",
    "\n",
    "\n",
    "print(final)"
   ]
  },
  {
   "cell_type": "code",
   "execution_count": null,
   "metadata": {
    "collapsed": true,
    "deletable": true,
    "editable": true
   },
   "outputs": [],
   "source": [
    "X = X.astype(int)\n",
    "M = X[:,0]\n",
    "#print(M)\n",
    "#X[X > 3] = 1\n",
    "#print(X)"
   ]
  },
  {
   "cell_type": "code",
   "execution_count": null,
   "metadata": {
    "collapsed": true,
    "deletable": true,
    "editable": true
   },
   "outputs": [],
   "source": []
  }
 ],
 "metadata": {
  "kernelspec": {
   "display_name": "Python 3",
   "language": "python",
   "name": "python3"
  },
  "language_info": {
   "codemirror_mode": {
    "name": "ipython",
    "version": 3
   },
   "file_extension": ".py",
   "mimetype": "text/x-python",
   "name": "python",
   "nbconvert_exporter": "python",
   "pygments_lexer": "ipython3",
   "version": "3.6.0"
  }
 },
 "nbformat": 4,
 "nbformat_minor": 2
}
